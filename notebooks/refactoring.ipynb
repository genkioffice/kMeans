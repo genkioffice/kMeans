{
 "cells": [
  {
   "cell_type": "code",
   "execution_count": 1,
   "metadata": {},
   "outputs": [],
   "source": [
    "import numpy as np\n",
    "import pandas as pd\n",
    "import matplotlib.pyplot as plt"
   ]
  },
  {
   "cell_type": "code",
   "execution_count": 10,
   "metadata": {},
   "outputs": [],
   "source": [
    "def _getInitValues(num,dim=2,mini=-100,maxi=100):\n",
    "    centroids = []\n",
    "    if mini > maxi:\n",
    "        raise ValueError('maxi should be greater than mini')\n",
    "    else:\n",
    "        for i in range(num):\n",
    "            meanBtw = (maxi - mini)/ 2 + mini\n",
    "            distance = maxi - meanBtw\n",
    "            result = (np.random.rand(dim) - 0.5) * distance * 2 + meanBtw\n",
    "            centroids.append(result)\n",
    "        centroids = np.array([list(i) for i in centroids])\n",
    "        return centroids"
   ]
  },
  {
   "cell_type": "code",
   "execution_count": 12,
   "metadata": {},
   "outputs": [
    {
     "data": {
      "text/plain": [
       "(10, 2)"
      ]
     },
     "execution_count": 12,
     "metadata": {},
     "output_type": "execute_result"
    }
   ],
   "source": [
    "a.shape"
   ]
  },
  {
   "cell_type": "code",
   "execution_count": 13,
   "metadata": {},
   "outputs": [
    {
     "data": {
      "text/plain": [
       "array([[0., 0.],\n",
       "       [0., 0.],\n",
       "       [0., 0.],\n",
       "       [0., 0.],\n",
       "       [0., 0.],\n",
       "       [0., 0.],\n",
       "       [0., 0.],\n",
       "       [0., 0.],\n",
       "       [0., 0.],\n",
       "       [0., 0.]])"
      ]
     },
     "execution_count": 13,
     "metadata": {},
     "output_type": "execute_result"
    }
   ],
   "source": [
    "np.zeros(a.shape)"
   ]
  },
  {
   "cell_type": "markdown",
   "metadata": {},
   "source": [
    "# Sample Data"
   ]
  },
  {
   "cell_type": "code",
   "execution_count": 14,
   "metadata": {},
   "outputs": [],
   "source": [
    "data = np.loadtxt(\"sample_2d_data.txt\")"
   ]
  },
  {
   "cell_type": "code",
   "execution_count": 280,
   "metadata": {},
   "outputs": [],
   "source": [
    "init = _getInitValues(3,dim=2,mini=10,maxi=40)\n",
    "km = kMeans(data=data,initCentroids=init)"
   ]
  },
  {
   "cell_type": "code",
   "execution_count": 281,
   "metadata": {},
   "outputs": [
    {
     "data": {
      "text/plain": [
       "array([[38.02619593, 11.99276666],\n",
       "       [39.00451973, 37.00352774],\n",
       "       [14.20799667, 21.16715581]])"
      ]
     },
     "execution_count": 281,
     "metadata": {},
     "output_type": "execute_result"
    }
   ],
   "source": [
    "init"
   ]
  },
  {
   "cell_type": "code",
   "execution_count": 282,
   "metadata": {},
   "outputs": [],
   "source": [
    "km.getBestCentroidAll(init)\n",
    "    "
   ]
  },
  {
   "cell_type": "code",
   "execution_count": 283,
   "metadata": {},
   "outputs": [
    {
     "data": {
      "text/plain": [
       "array([ 29., 118.,   3.])"
      ]
     },
     "execution_count": 283,
     "metadata": {},
     "output_type": "execute_result"
    }
   ],
   "source": [
    "sum(km.r)"
   ]
  },
  {
   "cell_type": "code",
   "execution_count": 284,
   "metadata": {},
   "outputs": [],
   "source": [
    "km.meanCluster()"
   ]
  },
  {
   "cell_type": "code",
   "execution_count": 285,
   "metadata": {},
   "outputs": [],
   "source": [
    "summutation = np.dot(km.data.transpose(),km.r)"
   ]
  },
  {
   "cell_type": "code",
   "execution_count": 286,
   "metadata": {
    "scrolled": true
   },
   "outputs": [
    {
     "data": {
      "text/plain": [
       "array([[ 925.        , 2326.39644659,   94.        ],\n",
       "       [ 932.        , 1878.24094778,   71.        ]])"
      ]
     },
     "execution_count": 286,
     "metadata": {},
     "output_type": "execute_result"
    }
   ],
   "source": [
    "summutation"
   ]
  },
  {
   "cell_type": "code",
   "execution_count": 279,
   "metadata": {},
   "outputs": [
    {
     "data": {
      "text/plain": [
       "array([  7., 143.,   0.])"
      ]
     },
     "execution_count": 279,
     "metadata": {},
     "output_type": "execute_result"
    }
   ],
   "source": [
    "sum(km.r)"
   ]
  },
  {
   "cell_type": "code",
   "execution_count": 271,
   "metadata": {},
   "outputs": [
    {
     "data": {
      "text/plain": [
       "False"
      ]
     },
     "execution_count": 271,
     "metadata": {},
     "output_type": "execute_result"
    }
   ],
   "source": [
    "np.any(sum(km.r) == 0)"
   ]
  },
  {
   "cell_type": "code",
   "execution_count": 250,
   "metadata": {},
   "outputs": [
    {
     "data": {
      "text/plain": [
       "array([[25.29182829, 15.44304172],\n",
       "       [42.80341732, 46.62739951],\n",
       "       [43.97771217, 21.02403384]])"
      ]
     },
     "execution_count": 250,
     "metadata": {},
     "output_type": "execute_result"
    }
   ],
   "source": [
    "km.centroids "
   ]
  },
  {
   "cell_type": "code",
   "execution_count": 251,
   "metadata": {},
   "outputs": [
    {
     "data": {
      "text/plain": [
       "array([[25.29182829, 15.44304172],\n",
       "       [42.80341732, 46.62739951],\n",
       "       [43.97771217, 21.02403384]])"
      ]
     },
     "execution_count": 251,
     "metadata": {},
     "output_type": "execute_result"
    }
   ],
   "source": [
    "km.initC"
   ]
  },
  {
   "cell_type": "code",
   "execution_count": 223,
   "metadata": {},
   "outputs": [
    {
     "data": {
      "text/plain": [
       "(3, 2)"
      ]
     },
     "execution_count": 223,
     "metadata": {},
     "output_type": "execute_result"
    }
   ],
   "source": [
    "summutation.transpose().shape"
   ]
  },
  {
   "cell_type": "code",
   "execution_count": 224,
   "metadata": {},
   "outputs": [
    {
     "data": {
      "text/plain": [
       "array([[  47.        ,   37.        ],\n",
       "       [1798.41804227, 1310.38069211],\n",
       "       [1499.97840432, 1533.86025567]])"
      ]
     },
     "execution_count": 224,
     "metadata": {},
     "output_type": "execute_result"
    }
   ],
   "source": [
    "summutation.transpose()"
   ]
  },
  {
   "cell_type": "code",
   "execution_count": 225,
   "metadata": {
    "scrolled": true
   },
   "outputs": [
    {
     "data": {
      "text/plain": [
       "array([[  15.66666667,  899.20902113, 1499.97840432],\n",
       "       [  12.33333333,  655.19034605, 1533.86025567]])"
      ]
     },
     "execution_count": 225,
     "metadata": {},
     "output_type": "execute_result"
    }
   ],
   "source": [
    "summutation /[3,2,1]"
   ]
  },
  {
   "cell_type": "code",
   "execution_count": 245,
   "metadata": {},
   "outputs": [
    {
     "data": {
      "text/plain": [
       "array([[25.29182829, 15.44304172],\n",
       "       [42.80341732, 46.62739951],\n",
       "       [43.97771217, 21.02403384]])"
      ]
     },
     "execution_count": 245,
     "metadata": {},
     "output_type": "execute_result"
    }
   ],
   "source": [
    "km.centroids"
   ]
  },
  {
   "cell_type": "code",
   "execution_count": 244,
   "metadata": {
    "scrolled": true
   },
   "outputs": [
    {
     "name": "stderr",
     "output_type": "stream",
     "text": [
      "No handles with labels found to put in legend.\n",
      "No handles with labels found to put in legend.\n"
     ]
    },
    {
     "name": "stdout",
     "output_type": "stream",
     "text": [
      "[[25.29182829 15.44304172]\n",
      " [42.80341732 46.62739951]\n",
      " [43.97771217 21.02403384]]\n",
      "[[25.29182829 15.44304172]\n",
      " [42.80341732 46.62739951]\n",
      " [43.97771217 21.02403384]]\n"
     ]
    },
    {
     "data": {
      "image/png": "[encoded data removed]",
      "text/plain": [
       "<Figure size 432x288 with 1 Axes>"
      ]
     },
     "metadata": {
      "needs_background": "light"
     },
     "output_type": "display_data"
    }
   ],
   "source": [
    "plt.scatter(data[:,0],data[:,1],color=\"gray\",marker=\"+\")\n",
    "km.plot(init)\n",
    "km.plot(km.centroids)"
   ]
  },
  {
   "cell_type": "code",
   "execution_count": 168,
   "metadata": {},
   "outputs": [
    {
     "name": "stderr",
     "output_type": "stream",
     "text": [
      "No handles with labels found to put in legend.\n"
     ]
    },
    {
     "name": "stdout",
     "output_type": "stream",
     "text": [
      "[[21.41124258 18.22704893]\n",
      " [43.5        33.5       ]\n",
      " [36.33333333 37.66666667]]\n"
     ]
    },
    {
     "data": {
      "image/png": "[encoded data removed]",
      "text/plain": [
       "<Figure size 432x288 with 1 Axes>"
      ]
     },
     "metadata": {
      "needs_background": "light"
     },
     "output_type": "display_data"
    }
   ],
   "source": []
  },
  {
   "cell_type": "code",
   "execution_count": 247,
   "metadata": {},
   "outputs": [
    {
     "name": "stdout",
     "output_type": "stream",
     "text": [
      "3\n"
     ]
    }
   ],
   "source": [
    "if not 3 == 2:\n",
    "    print(3)"
   ]
  },
  {
   "cell_type": "markdown",
   "metadata": {},
   "source": [
    "# test"
   ]
  },
  {
   "cell_type": "code",
   "execution_count": 272,
   "metadata": {},
   "outputs": [],
   "source": [
    "class kMeans(object):\n",
    "    def __init__(self,data,initCentroids):\n",
    "        self.initC = initCentroids\n",
    "        self.centroids = initCentroids\n",
    "        self.numC = len(initCentroids)\n",
    "        self.r = np.zeros([data.shape[0],self.initC.shape[0]])\n",
    "        self.data = data\n",
    "        self.dim = data.shape[1]\n",
    "\n",
    "    #Expectation\n",
    "    def getBestCentroidAll(self,centroids):\n",
    "        #全データからセントロイドまでの距離を測り、最短のものを返す。\n",
    "        pair = []\n",
    "        for n_data in range(len(self.data)):\n",
    "            iClu = self._getBestCentroid(one_data=data[n_data],centroids=centroids)\n",
    "            #Rの更新を行う\n",
    "            self.r[n_data,iClu-1] = 1\n",
    "        return None\n",
    "\n",
    "    \n",
    "    def _getBestCentroid(self,one_data,centroids):\n",
    "        #各点からセントロイドまでの距離を測って、最小のものを取り出す。\n",
    "        tmp = []\n",
    "        for j in range(len(centroids)):\n",
    "            dis = self._distance(one_data,centroids[j])\n",
    "            tmp.append(dis)\n",
    "        result = min(tmp)\n",
    "        index = tmp.index(result)\n",
    "        return index\n",
    "\n",
    "    def  _distance(self,arr,ini):\n",
    "        return np.linalg.norm(np.abs(ini - arr))\n",
    "\n",
    "    #Maximization\n",
    "    def meanCluster(self):\n",
    "        summutation = np.dot(self.data.transpose(),self.r)\n",
    "        if not np.any(sum(self.r) == 0):\n",
    "            centroids = (summutation / sum(self.r)).transpose()\n",
    "            self.centroids = centroids\n",
    "            return None\n",
    "        else:\n",
    "            print(\"error\")\n",
    "            #クラスタ内に一つもデータがない場合はそのクラスタの中心を不動にする\n",
    "#             zero_ind = np.where(sum(self.r)==0)[0]\n",
    "#             pre_centroids = centroids.transpose()[zero_ind]\n",
    "            pass\n",
    "            \n",
    "    #display\n",
    "    def plot(self,centroids,label=''):\n",
    "        arr = arr = np.array([i for i in centroids])\n",
    "        x = arr[:,0]\n",
    "        y = arr[:,1]\n",
    "        plt.plot(x,y,'o',label=label)\n",
    "        print(centroids)\n",
    "        plt.legend()\n",
    "\n",
    "    #収束判定をするために、評価関数を作る\n",
    "    def J(self):\n",
    "        result = 0\n",
    "        for n in range(len(self.data)):\n",
    "            for k in range(len(self.centroids)):\n",
    "                result += np.linalg.norm(self.data[n] - self.centroids[k])\n",
    "        return result\n"
   ]
  },
  {
   "cell_type": "code",
   "execution_count": 260,
   "metadata": {},
   "outputs": [
    {
     "data": {
      "text/plain": [
       "True"
      ]
     },
     "execution_count": 260,
     "metadata": {},
     "output_type": "execute_result"
    }
   ],
   "source": [
    "sum(km.r).any(0)"
   ]
  },
  {
   "cell_type": "code",
   "execution_count": 235,
   "metadata": {
    "scrolled": true
   },
   "outputs": [
    {
     "data": {
      "text/plain": [
       "array([[28.82957469, 19.86292208],\n",
       "       [46.20483384, 12.0684333 ],\n",
       "       [13.48235834, 11.60388698]])"
      ]
     },
     "execution_count": 235,
     "metadata": {},
     "output_type": "execute_result"
    }
   ],
   "source": [
    "km.centroids"
   ]
  },
  {
   "cell_type": "code",
   "execution_count": 233,
   "metadata": {
    "scrolled": true
   },
   "outputs": [
    {
     "ename": "ValueError",
     "evalue": "shapes (150,2) and (150,3) not aligned: 2 (dim 1) != 150 (dim 0)",
     "output_type": "error",
     "traceback": [
      "\u001b[0;31m---------------------------------------------------------------------------\u001b[0m",
      "\u001b[0;31mValueError\u001b[0m                                Traceback (most recent call last)",
      "\u001b[0;32m<ipython-input-233-74f89686929a>\u001b[0m in \u001b[0;36m<module>\u001b[0;34m()\u001b[0m\n\u001b[0;32m----> 1\u001b[0;31m \u001b[0mnp\u001b[0m\u001b[0;34m.\u001b[0m\u001b[0mdot\u001b[0m\u001b[0;34m(\u001b[0m\u001b[0mkm\u001b[0m\u001b[0;34m.\u001b[0m\u001b[0mdata\u001b[0m\u001b[0;34m,\u001b[0m\u001b[0mkm\u001b[0m\u001b[0;34m.\u001b[0m\u001b[0mr\u001b[0m\u001b[0;34m)\u001b[0m\u001b[0;34m\u001b[0m\u001b[0m\n\u001b[0m",
      "\u001b[0;31mValueError\u001b[0m: shapes (150,2) and (150,3) not aligned: 2 (dim 1) != 150 (dim 0)"
     ]
    }
   ],
   "source": [
    "np.dot(km.data.,km.r)"
   ]
  },
  {
   "cell_type": "code",
   "execution_count": 231,
   "metadata": {},
   "outputs": [
    {
     "data": {
      "text/plain": [
       "array([[  47.        ,   37.        ],\n",
       "       [1798.41804227, 1310.38069211],\n",
       "       [1499.97840432, 1533.86025567]])"
      ]
     },
     "execution_count": 231,
     "metadata": {},
     "output_type": "execute_result"
    }
   ],
   "source": [
    "np.dot(km.data.transpose(),km.r).transpose()"
   ]
  },
  {
   "cell_type": "code",
   "execution_count": 3,
   "metadata": {},
   "outputs": [
    {
     "name": "stdout",
     "output_type": "stream",
     "text": [
      "[array([18.99017038, 27.32199854]), array([28.87475044, 19.5232781 ]), array([19.74480499, 10.3327569 ])]\n",
      "[[22.224904945050454, 26.883294268906692], [32.07142857142857, 27.571428571428573], [19.118528983822554, 13.11245952740689]]\n"
     ]
    },
    {
     "data": {
      "image/png": "[encoded data removed]",
      "text/plain": [
       "<Figure size 432x288 with 1 Axes>"
      ]
     },
     "metadata": {
      "needs_background": "light"
     },
     "output_type": "display_data"
    }
   ],
   "source": [
    "# if \"__name__\" == \"__main__\":\n",
    "centroids = _getInitValues(3,mini=10,maxi=30)\n",
    "data = np.loadtxt(\"sample_2d_data.txt\")\n",
    "\n",
    "pairs2 = getBestCentroidAll(data,centroids=centroids)\n",
    "centroids2 = meanCluster(pairs2,numCl=3)\n",
    "plot(centroids,\"first\")\n",
    "plot(centroids2,\"second\")"
   ]
  },
  {
   "cell_type": "code",
   "execution_count": null,
   "metadata": {},
   "outputs": [],
   "source": []
  }
 ],
 "metadata": {
  "kernelspec": {
   "display_name": "Python 3",
   "language": "python",
   "name": "python3"
  },
  "language_info": {
   "codemirror_mode": {
    "name": "ipython",
    "version": 3
   },
   "file_extension": ".py",
   "mimetype": "text/x-python",
   "name": "python",
   "nbconvert_exporter": "python",
   "pygments_lexer": "ipython3",
   "version": "3.5.4"
  },
  "toc": {
   "base_numbering": 1,
   "nav_menu": {},
   "number_sections": true,
   "sideBar": true,
   "skip_h1_title": false,
   "title_cell": "Table of Contents",
   "title_sidebar": "Contents",
   "toc_cell": false,
   "toc_position": {},
   "toc_section_display": true,
   "toc_window_display": true
  }
 },
 "nbformat": 4,
 "nbformat_minor": 2
}
