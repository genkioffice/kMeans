{
 "cells": [
  {
   "cell_type": "code",
   "execution_count": 303,
   "metadata": {},
   "outputs": [],
   "source": [
    "import numpy as np\n",
    "import matplotlib.pyplot as plt\n",
    "%matplotlib inline"
   ]
  },
  {
   "cell_type": "code",
   "execution_count": 118,
   "metadata": {},
   "outputs": [],
   "source": [
    "def _getInitValues(num,mini=-100,maxi=100):\n",
    "    centroids = []\n",
    "    if mini > maxi:\n",
    "        raise ValueError('maxi should be greater than mini')\n",
    "    else:\n",
    "        for i in range(num):\n",
    "            meanBtw = (maxi - mini)/ 2 + mini\n",
    "            distance = maxi - meanBtw\n",
    "            result = (np.random.rand(2) - 0.5) * distance * 2 + meanBtw\n",
    "            centroids.append(result)\n",
    "        return centroids"
   ]
  },
  {
   "cell_type": "code",
   "execution_count": 116,
   "metadata": {
    "scrolled": true
   },
   "outputs": [
    {
     "data": {
      "text/plain": [
       "[array([-15.1994672 , -13.80191092]),\n",
       " array([-12.10048922, -18.78985491]),\n",
       " array([-14.39846455, -13.7006077 ]),\n",
       " array([-18.05670043, -10.40863919]),\n",
       " array([-16.44016023, -13.28431684]),\n",
       " array([-10.4464892 , -13.33963006]),\n",
       " array([-16.0746974 , -19.49745103]),\n",
       " array([-17.35391364, -13.34844222]),\n",
       " array([-12.97217234, -16.17819622]),\n",
       " array([-14.17001943, -13.67665049])]"
      ]
     },
     "execution_count": 116,
     "metadata": {},
     "output_type": "execute_result"
    }
   ],
   "source": [
    "_getInitValues(10,mini=-20,maxi=-10)"
   ]
  },
  {
   "cell_type": "code",
   "execution_count": null,
   "metadata": {},
   "outputs": [],
   "source": [
    "data1 = np.random.randn(100) * 10\n",
    "data1 = data1.reshape((50,2))\n",
    "data2 = np.random.binomial(100,0.1,size=(50,2))\n",
    "data3 = np.random.beta(a=4,b=9,size=(50,2)) * 10 + 5"
   ]
  },
  {
   "cell_type": "code",
   "execution_count": 227,
   "metadata": {},
   "outputs": [],
   "source": [
    "\n",
    "            \n",
    "def  _distance(arr,ini):\n",
    "    return np.linalg.norm(np.abs(ini - arr))\n",
    "\n",
    "def _getBestCentroid(one_data,centroids):\n",
    "    tmp = []\n",
    "    for j in range(len(centroids)):\n",
    "        dis = _distance(one_data,centroids[j])\n",
    "        tmp.append(dis)\n",
    "    result = min(tmp)\n",
    "    index = tmp.index(result)\n",
    "    return index\n",
    "\n",
    "def getBestCentroidAll(data,centroids):\n",
    "    pare = []\n",
    "    for i in range(len(data)):\n",
    "        cId = _getBestCentroid(data[i],centroids)\n",
    "        result = [data[i], cId]\n",
    "        pare.append(result)\n",
    "    return pare"
   ]
  },
  {
   "cell_type": "code",
   "execution_count": 88,
   "metadata": {},
   "outputs": [],
   "source": [
    "data = np.concatenate((data1,data2,data3))"
   ]
  },
  {
   "cell_type": "code",
   "execution_count": 108,
   "metadata": {},
   "outputs": [
    {
     "name": "stdout",
     "output_type": "stream",
     "text": [
      "[8.3779952  9.17151358]\n",
      "c1 : [100. 100.]\n",
      " c2 : [100. 100.] \n",
      " c3 :[100. 100.]\n"
     ]
    }
   ],
   "source": [
    "print(data1[5])\n",
    "print(\"c1 : {}\\n c2 : {} \\n c3 :{}\".format(centroids[0],centroids[1],centroids[2]))"
   ]
  },
  {
   "cell_type": "code",
   "execution_count": 153,
   "metadata": {},
   "outputs": [
    {
     "data": {
      "text/plain": [
       "[[array([-8.05848375, -0.75965328]), 2],\n",
       " [array([9.85189481, 0.72199759]), 0],\n",
       " [array([-4.02862181, 10.88475549]), 2],\n",
       " [array([-15.20685494,  -6.46904532]), 1],\n",
       " [array([-11.55597032,  -3.52677536]), 1],\n",
       " [array([8.3779952 , 9.17151358]), 0],\n",
       " [array([-8.64646887, -0.39806377]), 2],\n",
       " [array([8.18947123, 5.08869354]), 0],\n",
       " [array([-10.13214622,  -4.90985851]), 1],\n",
       " [array([-12.47039652, -24.10118242]), 1],\n",
       " [array([18.65372196,  2.09592884]), 0],\n",
       " [array([ 9.05466151, -8.5868183 ]), 0],\n",
       " [array([5.6363187 , 1.50438545]), 0],\n",
       " [array([-1.96096507,  1.14977681]), 2],\n",
       " [array([17.15209933,  0.98182961]), 0],\n",
       " [array([-5.27336568,  9.42783331]), 2],\n",
       " [array([15.04289763, -0.77260461]), 0],\n",
       " [array([-2.50322035,  1.19289254]), 2],\n",
       " [array([ -5.72834959, -12.42082098]), 1],\n",
       " [array([-13.88250907,  10.31322813]), 2],\n",
       " [array([-5.64426064,  7.02778184]), 2],\n",
       " [array([-11.25472227,  18.43526968]), 2],\n",
       " [array([ -3.6114788 , -27.00528073]), 1],\n",
       " [array([6.45920479, 6.93923322]), 0],\n",
       " [array([3.2856894 , 6.47395881]), 0],\n",
       " [array([-6.48645834,  1.58091871]), 2],\n",
       " [array([16.53285681,  9.78985332]), 0],\n",
       " [array([-20.1991246 ,   4.93833686]), 2],\n",
       " [array([-24.19146361, -14.76280492]), 1],\n",
       " [array([-10.49399106, -10.06473526]), 1],\n",
       " [array([-11.59903331,   4.59756185]), 2],\n",
       " [array([4.02171787, 3.13757231]), 0],\n",
       " [array([-1.39558481, -0.16944201]), 2],\n",
       " [array([19.36705087,  6.29742543]), 0],\n",
       " [array([  5.55243293, -20.67026152]), 1],\n",
       " [array([12.83758897,  4.45168687]), 0],\n",
       " [array([ -0.69587237, -13.61097463]), 1],\n",
       " [array([ 7.31830863, 14.46128375]), 0],\n",
       " [array([-4.34733532, 11.50066133]), 2],\n",
       " [array([ -6.53389445, -12.30275275]), 1],\n",
       " [array([-12.15330991,  -3.62379734]), 1],\n",
       " [array([-2.43646464, -9.79236145]), 1],\n",
       " [array([13.07657028,  0.09955856]), 0],\n",
       " [array([ 7.67192295, 15.15935438]), 0],\n",
       " [array([  2.90129327, -33.11908864]), 1],\n",
       " [array([-3.85119797, -1.17607813]), 1],\n",
       " [array([13.46448464,  0.51257941]), 0],\n",
       " [array([ -7.61051538, -14.34252665]), 1],\n",
       " [array([ 0.27240076, -2.76011512]), 1],\n",
       " [array([-3.62000629,  8.38526819]), 2],\n",
       " [array([7., 7.]), 0],\n",
       " [array([9., 8.]), 0],\n",
       " [array([ 9., 10.]), 0],\n",
       " [array([12., 10.]), 0],\n",
       " [array([7., 9.]), 0],\n",
       " [array([6., 6.]), 0],\n",
       " [array([ 8., 11.]), 0],\n",
       " [array([11.,  7.]), 0],\n",
       " [array([12.,  7.]), 0],\n",
       " [array([11.,  7.]), 0],\n",
       " [array([ 7., 10.]), 0],\n",
       " [array([4., 9.]), 0],\n",
       " [array([13., 12.]), 0],\n",
       " [array([7., 7.]), 0],\n",
       " [array([14.,  9.]), 0],\n",
       " [array([11.,  8.]), 0],\n",
       " [array([10., 14.]), 0],\n",
       " [array([11., 11.]), 0],\n",
       " [array([10.,  9.]), 0],\n",
       " [array([9., 6.]), 0],\n",
       " [array([11.,  8.]), 0],\n",
       " [array([14., 10.]), 0],\n",
       " [array([ 7., 17.]), 0],\n",
       " [array([6., 7.]), 0],\n",
       " [array([10., 12.]), 0],\n",
       " [array([10., 12.]), 0],\n",
       " [array([10.,  4.]), 0],\n",
       " [array([ 9., 10.]), 0],\n",
       " [array([6., 8.]), 0],\n",
       " [array([9., 4.]), 0],\n",
       " [array([8., 6.]), 0],\n",
       " [array([11.,  9.]), 0],\n",
       " [array([ 8., 11.]), 0],\n",
       " [array([11.,  9.]), 0],\n",
       " [array([12., 11.]), 0],\n",
       " [array([6., 9.]), 0],\n",
       " [array([6., 7.]), 0],\n",
       " [array([10.,  9.]), 0],\n",
       " [array([16., 10.]), 0],\n",
       " [array([18., 13.]), 0],\n",
       " [array([ 9., 13.]), 0],\n",
       " [array([ 8., 11.]), 0],\n",
       " [array([17., 12.]), 0],\n",
       " [array([12.,  5.]), 0],\n",
       " [array([ 8., 11.]), 0],\n",
       " [array([9., 5.]), 0],\n",
       " [array([15.,  9.]), 0],\n",
       " [array([11., 10.]), 0],\n",
       " [array([ 8., 16.]), 0],\n",
       " [array([ 5., 13.]), 0],\n",
       " [array([9.4512392 , 8.92472577]), 0],\n",
       " [array([ 6.6225706 , 10.38175085]), 0],\n",
       " [array([6.71780019, 7.47702341]), 0],\n",
       " [array([7.47789588, 8.63539711]), 0],\n",
       " [array([6.64748754, 9.0717127 ]), 0],\n",
       " [array([10.18341009,  9.25528178]), 0],\n",
       " [array([9.0732683 , 8.44335383]), 0],\n",
       " [array([9.29570163, 9.68288912]), 0],\n",
       " [array([7.69268306, 6.34251287]), 0],\n",
       " [array([8.59453862, 7.74792301]), 0],\n",
       " [array([9.02776346, 8.57540785]), 0],\n",
       " [array([8.42597653, 9.25717708]), 0],\n",
       " [array([8.93827112, 7.88353929]), 0],\n",
       " [array([8.11556684, 8.44600675]), 0],\n",
       " [array([7.30296676, 8.23117205]), 0],\n",
       " [array([7.6046655 , 7.60438405]), 0],\n",
       " [array([10.10653123,  6.26361263]), 0],\n",
       " [array([9.29267195, 9.76851712]), 0],\n",
       " [array([8.11919099, 9.65659992]), 0],\n",
       " [array([7.17039222, 7.93676687]), 0],\n",
       " [array([7.3514597 , 8.60104057]), 0],\n",
       " [array([8.68252138, 8.23467874]), 0],\n",
       " [array([7.38391718, 8.13057245]), 0],\n",
       " [array([6.4037296 , 9.58438751]), 0],\n",
       " [array([8.01282074, 7.66496399]), 0],\n",
       " [array([6.96177789, 8.27499872]), 0],\n",
       " [array([8.45286036, 6.48457988]), 0],\n",
       " [array([6.73635563, 7.59907944]), 0],\n",
       " [array([7.20187951, 8.48424155]), 0],\n",
       " [array([8.41157363, 8.67498688]), 0],\n",
       " [array([6.76259993, 6.70084726]), 0],\n",
       " [array([6.70942036, 9.95025613]), 0],\n",
       " [array([8.18127079, 7.79867498]), 0],\n",
       " [array([7.36546143, 6.91668896]), 0],\n",
       " [array([ 6.60196201, 10.37696034]), 0],\n",
       " [array([6.6952921 , 7.32695924]), 0],\n",
       " [array([8.23452599, 6.56449564]), 0],\n",
       " [array([6.42433213, 9.4006625 ]), 0],\n",
       " [array([9.72756976, 7.87565021]), 0],\n",
       " [array([10.76069647,  8.36345704]), 0],\n",
       " [array([10.24292481,  8.09916714]), 0],\n",
       " [array([7.26217839, 8.02949964]), 0],\n",
       " [array([6.79095239, 8.25460856]), 0],\n",
       " [array([7.27035369, 9.39634603]), 0],\n",
       " [array([8.22031292, 7.22045972]), 0],\n",
       " [array([11.20513781,  7.75743793]), 0],\n",
       " [array([8.3691067 , 8.11986888]), 0],\n",
       " [array([7.95199793, 8.07502422]), 0],\n",
       " [array([6.86540465, 8.90899244]), 0],\n",
       " [array([8.66138928, 7.8063404 ]), 0]]"
      ]
     },
     "execution_count": 153,
     "metadata": {},
     "output_type": "execute_result"
    }
   ],
   "source": [
    "#debug getbestcentroid\n",
    "centroids = _getInitValues(3,mini=-10,maxi=10)\n",
    "getBestCentroid(data1[40],centroids=centroids)\n",
    "getBestCentroidAll(data,centroids=centroids)"
   ]
  },
  {
   "cell_type": "code",
   "execution_count": 218,
   "metadata": {},
   "outputs": [],
   "source": [
    "def _clusterise(data_with_cl,numCl):\n",
    "    clusters = [[]] * numCl\n",
    "    for i in range(numCl):\n",
    "        tmp = []\n",
    "        for data, cl in data_with_cl:\n",
    "            if cl == i:\n",
    "                tmp.append(data)\n",
    "            else:\n",
    "                pass\n",
    "        clusters[i] = tmp\n",
    "    return clusters\n",
    "\n",
    "def _meanCluster(clusters,numCl):\n",
    "    meanClusters = [[]]*numCl\n",
    "    dim = 2\n",
    "    for i in range(numCl):\n",
    "        mean = [[]] * dim\n",
    "        for l in range(dim):\n",
    "            mean[l] = np.mean(clusters[i][:][l])\n",
    "        meanClusters[i] = mean\n",
    "    return meanClusters"
   ]
  },
  {
   "cell_type": "code",
   "execution_count": 300,
   "metadata": {},
   "outputs": [
    {
     "name": "stdout",
     "output_type": "stream",
     "text": [
      "[[5.286946203423284, 8.774754390152374], [-10.837950129985023, -7.541372843427394], [-4.409068512750987, 3.4280668371603724]]\n",
      "[array([9.30466082, 2.60230758]), array([-7.43676397, -2.74867478]), array([-7.43933197,  0.44666687])]\n",
      "[[5.286946203423284, 8.774754390152374], [-10.837950129985023, -7.541372843427394], [-4.409068512750987, 3.4280668371603724]]\n"
     ]
    },
    {
     "data": {
      "image/png": "[encoded data removed]",
      "text/plain": [
       "<Figure size 432x288 with 1 Axes>"
      ]
     },
     "metadata": {},
     "output_type": "display_data"
    }
   ],
   "source": [
    "def plot(centroids,label=''):\n",
    "    arr = arr = np.array([i for i in centroids])\n",
    "    x = arr[:,0]\n",
    "    y = arr[:,1]\n",
    "    plt.plot(x,y,'o',label=label)\n",
    "    print(centroids)\n",
    "    plt.legend()\n",
    "plot(newCentroids,label=\"newCentroids\")\n",
    "plot(centroids=centroids,label=\"centroids\")\n",
    "plot(centroids=newCentroids2,label=\"newCentroids2\")"
   ]
  },
  {
   "cell_type": "code",
   "execution_count": 297,
   "metadata": {},
   "outputs": [
    {
     "name": "stdout",
     "output_type": "stream",
     "text": [
      "[array([9.30466082, 2.60230758]), array([-7.43676397, -2.74867478]), array([-7.43933197,  0.44666687])]\n",
      "[[5.286946203423284, 8.774754390152374], [-10.837950129985023, -7.541372843427394], [-4.409068512750987, 3.4280668371603724]]\n",
      "[[5.286946203423284, 8.774754390152374], [-10.837950129985023, -7.541372843427394], [-4.409068512750987, 3.4280668371603724]]\n"
     ]
    },
    {
     "data": {
      "image/png": "[encoded data removed]",
      "text/plain": [
       "<Figure size 432x288 with 1 Axes>"
      ]
     },
     "metadata": {},
     "output_type": "display_data"
    }
   ],
   "source": [
    "\n",
    "plt.plot(data,'o')\n",
    "plot(centroids=centroids,label=\"centroids\")\n",
    "plot(centroids=newCentroids,label=\"newCentroids\")\n",
    "plot(centroids=newCentroids2,label=\"newCentroids2\")"
   ]
  },
  {
   "cell_type": "code",
   "execution_count": null,
   "metadata": {},
   "outputs": [],
   "source": [
    "#get twice iteration\n",
    "data_with_cl2 = getBestCentroidAll(data=data,centroids=newCentroids)\n",
    "l2 = _clusterise(data_with_cl=data_with_cl2,numCl=num)\n",
    "newCentroids2 = _meanCluster(clusters=l2,numCl=num)\n",
    "getBestCentroidAll(data=data,centroids=newCentroids2)\n",
    "\n",
    "#get groups\n",
    "data_with_cl2 = getBestCentroidAll(data=data,centroids=newCentroids)\n",
    "l2 = _clusterise(data_with_cl=data_with_cl2,numCl=num)\n",
    "#get centroidss\n",
    "\n",
    "num = 3\n",
    "l = _clusterise(data_with_cl=data_with_cl,numCl=num)\n",
    "newCentroids2 = _meanCluster(l,num)\n",
    "getBestCentroidAll(data=data,centroids=newCentroids)\n",
    "print(centroids)\n",
    "print(newCentroids)"
   ]
  },
  {
   "cell_type": "code",
   "execution_count": 250,
   "metadata": {
    "scrolled": true
   },
   "outputs": [
    {
     "data": {
      "text/plain": [
       "[array([9.30466082, 2.60230758]),\n",
       " array([-7.43676397, -2.74867478]),\n",
       " array([-7.43933197,  0.44666687])]"
      ]
     },
     "execution_count": 250,
     "metadata": {},
     "output_type": "execute_result"
    }
   ],
   "source": [
    "centroids"
   ]
  },
  {
   "cell_type": "code",
   "execution_count": 263,
   "metadata": {},
   "outputs": [
    {
     "data": {
      "text/plain": [
       "array([[ 9.30466082,  2.60230758],\n",
       "       [-7.43676397, -2.74867478],\n",
       "       [-7.43933197,  0.44666687]])"
      ]
     },
     "execution_count": 263,
     "metadata": {},
     "output_type": "execute_result"
    }
   ],
   "source": [
    "arr = np.array([i for i in centroids])\n",
    "arr"
   ]
  },
  {
   "cell_type": "code",
   "execution_count": 267,
   "metadata": {},
   "outputs": [
    {
     "data": {
      "text/plain": [
       "array([ 2.60230758, -2.74867478,  0.44666687])"
      ]
     },
     "execution_count": 267,
     "metadata": {},
     "output_type": "execute_result"
    }
   ],
   "source": [
    "arr[:,1]"
   ]
  },
  {
   "cell_type": "code",
   "execution_count": 201,
   "metadata": {
    "scrolled": true
   },
   "outputs": [
    {
     "data": {
      "text/plain": [
       "8.667567564893414"
      ]
     },
     "execution_count": 201,
     "metadata": {},
     "output_type": "execute_result"
    }
   ],
   "source": [
    "np.mean(l[0])"
   ]
  },
  {
   "cell_type": "code",
   "execution_count": 173,
   "metadata": {},
   "outputs": [
    {
     "data": {
      "text/plain": [
       "[]"
      ]
     },
     "execution_count": 173,
     "metadata": {},
     "output_type": "execute_result"
    }
   ],
   "source": [
    "name = [[]] * 3\n",
    "name[0] = 1\n",
    "name\n",
    "name[1]"
   ]
  },
  {
   "cell_type": "code",
   "execution_count": null,
   "metadata": {},
   "outputs": [],
   "source": [
    "'''\n",
    "1st: ランダムで三点選ぶ. (centroid1). データを分割する. \n",
    "2nd: \n",
    "'''"
   ]
  }
 ],
 "metadata": {
  "kernelspec": {
   "display_name": "Python [conda env:mnist]",
   "language": "python",
   "name": "conda-env-mnist-py"
  },
  "language_info": {
   "codemirror_mode": {
    "name": "ipython",
    "version": 3
   },
   "file_extension": ".py",
   "mimetype": "text/x-python",
   "name": "python",
   "nbconvert_exporter": "python",
   "pygments_lexer": "ipython3",
   "version": "3.5.5"
  }
 },
 "nbformat": 4,
 "nbformat_minor": 2
}
