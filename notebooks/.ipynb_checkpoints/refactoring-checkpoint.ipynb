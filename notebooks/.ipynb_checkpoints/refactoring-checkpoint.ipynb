{
 "cells": [
  {
   "cell_type": "code",
   "execution_count": 13,
   "metadata": {},
   "outputs": [
    {
     "ename": "ImportError",
     "evalue": "No module named 'pandas'",
     "output_type": "error",
     "traceback": [
      "\u001b[0;31m---------------------------------------------------------------------------\u001b[0m",
      "\u001b[0;31mImportError\u001b[0m                               Traceback (most recent call last)",
      "\u001b[0;32m<ipython-input-13-fa18575525b6>\u001b[0m in \u001b[0;36m<module>\u001b[0;34m()\u001b[0m\n\u001b[1;32m      1\u001b[0m \u001b[0;32mimport\u001b[0m \u001b[0mnumpy\u001b[0m \u001b[0;32mas\u001b[0m \u001b[0mnp\u001b[0m\u001b[0;34m\u001b[0m\u001b[0m\n\u001b[0;32m----> 2\u001b[0;31m \u001b[0;32mimport\u001b[0m \u001b[0mpandas\u001b[0m \u001b[0;32mas\u001b[0m \u001b[0mpd\u001b[0m\u001b[0;34m\u001b[0m\u001b[0m\n\u001b[0m\u001b[1;32m      3\u001b[0m \u001b[0;32mimport\u001b[0m \u001b[0mmatplotlib\u001b[0m\u001b[0;34m.\u001b[0m\u001b[0mpyplot\u001b[0m \u001b[0;32mas\u001b[0m \u001b[0mplt\u001b[0m\u001b[0;34m\u001b[0m\u001b[0m\n",
      "\u001b[0;31mImportError\u001b[0m: No module named 'pandas'"
     ]
    }
   ],
   "source": [
    "import numpy as np\n",
    "import pandas as pd\n",
    "import matplotlib.pyplot as plt"
   ]
  },
  {
   "cell_type": "code",
   "execution_count": 9,
   "metadata": {},
   "outputs": [],
   "source": [
    "def _getInitValues(num,dim=2,mini=-100,maxi=100):\n",
    "    centroids = []\n",
    "    if mini > maxi:\n",
    "        raise ValueError('maxi should be greater than mini')\n",
    "    else:\n",
    "        for i in range(num):\n",
    "            meanBtw = (maxi - mini)/ 2 + mini\n",
    "            distance = maxi - meanBtw\n",
    "            result = (np.random.rand(dim) - 0.5) * distance * 2 + meanBtw\n",
    "            centroids.append(result)\n",
    "        return centroids"
   ]
  },
  {
   "cell_type": "code",
   "execution_count": 12,
   "metadata": {},
   "outputs": [
    {
     "data": {
      "text/plain": [
       "list"
      ]
     },
     "execution_count": 12,
     "metadata": {},
     "output_type": "execute_result"
    }
   ],
   "source": [
    "a = _getInitValues(10)\n",
    "pd.Da"
   ]
  },
  {
   "cell_type": "code",
   "execution_count": 4,
   "metadata": {},
   "outputs": [
    {
     "data": {
      "text/plain": [
       "array([[0., 0., 0.],\n",
       "       [0., 0., 0.]])"
      ]
     },
     "execution_count": 4,
     "metadata": {},
     "output_type": "execute_result"
    }
   ],
   "source": [
    "r = np.zeros([2,3])\n",
    "r"
   ]
  },
  {
   "cell_type": "markdown",
   "metadata": {},
   "source": [
    "# test"
   ]
  },
  {
   "cell_type": "code",
   "execution_count": 2,
   "metadata": {},
   "outputs": [],
   "source": [
    "class kMeans(object):\n",
    "    def __init__(self,initCentroids):\n",
    "        self.initC = initCentroids\n",
    "        self.r = np.zeros([])\n",
    "    #E\n",
    "    def getBestCentroidAll(self,data,centroids):\n",
    "        pair = []\n",
    "        for i in range(len(data)):\n",
    "            cId = _getBestCentroid(one_data=data[i],centroids=centroids)\n",
    "            result = [data[i], cId]\n",
    "            pair.append(result)\n",
    "        return pair\n",
    "\n",
    "    \n",
    "    def _getBestCentroid(one_data,centroids):\n",
    "        #各点からセントロイドまでの距離を測って、最小のものを取り出す。\n",
    "        tmp = []\n",
    "        for j in range(len(centroids)):\n",
    "            dis = _distance(one_data,centroids[j])\n",
    "            tmp.append(dis)\n",
    "        result = min(tmp)\n",
    "        index = tmp.index(result)\n",
    "        return index\n",
    "\n",
    "    def  _distance(arr,ini):\n",
    "        return np.linalg.norm(np.abs(ini - arr))\n",
    "\n",
    "    #M\n",
    "    def meanCluster(data_with_cl,numCl):\n",
    "        meanClusters = [[]]*numCl\n",
    "        dim = 2\n",
    "        clusters = _clusterise(data_with_cl,numCl)\n",
    "        for i in range(numCl):\n",
    "            mean = [[]] * dim\n",
    "            arr = np.array([v for v in clusters[i]])\n",
    "            for l in range(dim):\n",
    "                mean[l] = np.mean(arr[:,l])\n",
    "            meanClusters[i] = mean\n",
    "        return meanClusters\n",
    "    \n",
    "    def _clusterise(data_with_cl,numCl):\n",
    "        clusters = [[]] * numCl\n",
    "        for i in range(numCl):\n",
    "            tmp = []\n",
    "            for data, cl in data_with_cl:\n",
    "                if cl == i:\n",
    "                    tmp.append(data)\n",
    "                else:\n",
    "                    pass\n",
    "            clusters[i] = tmp\n",
    "        return clusters\n",
    "\n",
    "    #display\n",
    "    def plot(centroids,label=''):\n",
    "        arr = arr = np.array([i for i in centroids])\n",
    "        x = arr[:,0]\n",
    "        y = arr[:,1]\n",
    "        plt.plot(x,y,'o',label=label)\n",
    "        print(centroids)\n",
    "        plt.legend()\n",
    "\n",
    "    #収束判定をするために、評価関数を作る\n",
    "    def J(data_with_cl,centroids):\n",
    "        clusters = _clusterise(data_with_cl=data_with_cl,numCl=2)\n",
    "        tmp = []\n",
    "        for i,cluster in enumerate(clusters):\n",
    "            arr = np.array([val - centroids[i]  for val in cluster])\n",
    "            tmp.append(np.sum(arr **2))\n",
    "        value = np.sum(tmp)\n",
    "        return value\n"
   ]
  },
  {
   "cell_type": "code",
   "execution_count": 3,
   "metadata": {},
   "outputs": [
    {
     "name": "stdout",
     "output_type": "stream",
     "text": [
      "[array([18.99017038, 27.32199854]), array([28.87475044, 19.5232781 ]), array([19.74480499, 10.3327569 ])]\n",
      "[[22.224904945050454, 26.883294268906692], [32.07142857142857, 27.571428571428573], [19.118528983822554, 13.11245952740689]]\n"
     ]
    },
    {
     "data": {
      "image/png": "[encoded data removed]",
      "text/plain": [
       "<Figure size 432x288 with 1 Axes>"
      ]
     },
     "metadata": {
      "needs_background": "light"
     },
     "output_type": "display_data"
    }
   ],
   "source": [
    "# if \"__name__\" == \"__main__\":\n",
    "centroids = _getInitValues(3,mini=10,maxi=30)\n",
    "data = np.loadtxt(\"sample_2d_data.txt\")\n",
    "\n",
    "pairs2 = getBestCentroidAll(data,centroids=centroids)\n",
    "centroids2 = meanCluster(pairs2,numCl=3)\n",
    "plot(centroids,\"first\")\n",
    "plot(centroids2,\"second\")"
   ]
  },
  {
   "cell_type": "code",
   "execution_count": null,
   "metadata": {},
   "outputs": [],
   "source": []
  }
 ],
 "metadata": {
  "kernelspec": {
   "display_name": "Python 3",
   "language": "python",
   "name": "python3"
  },
  "language_info": {
   "codemirror_mode": {
    "name": "ipython",
    "version": 3
   },
   "file_extension": ".py",
   "mimetype": "text/x-python",
   "name": "python",
   "nbconvert_exporter": "python",
   "pygments_lexer": "ipython3",
   "version": "3.5.4"
  },
  "toc": {
   "base_numbering": 1,
   "nav_menu": {},
   "number_sections": true,
   "sideBar": true,
   "skip_h1_title": false,
   "title_cell": "Table of Contents",
   "title_sidebar": "Contents",
   "toc_cell": false,
   "toc_position": {},
   "toc_section_display": true,
   "toc_window_display": true
  }
 },
 "nbformat": 4,
 "nbformat_minor": 2
}
